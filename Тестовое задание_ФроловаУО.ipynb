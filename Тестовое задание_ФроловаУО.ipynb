{
 "cells": [
  {
   "cell_type": "markdown",
   "metadata": {},
   "source": [
    "## 1. Функция на Python\n",
    "\n",
    "Функция удаляет дубликаты в списке. Список не отсортирован. Необходимо сохранить порядок сортировки оригинального списка.\n"
   ]
  },
  {
   "cell_type": "markdown",
   "metadata": {},
   "source": [
    "#### Решение"
   ]
  },
  {
   "cell_type": "code",
   "execution_count": 10,
   "metadata": {},
   "outputs": [],
   "source": [
    "def uniquify_with_order(old_list):\n",
    "    unique_list = []\n",
    "    [unique_list.append(elem) for elem in old_list if not unique_list.count(elem)]\n",
    "    return unique_list"
   ]
  },
  {
   "cell_type": "markdown",
   "metadata": {},
   "source": [
    "#### Парочка тестов"
   ]
  },
  {
   "cell_type": "code",
   "execution_count": 11,
   "metadata": {},
   "outputs": [],
   "source": [
    "list_1 = [1,2,3,1]\n",
    "list_2 = [1, 3, 2, 1, 5, 3, 5, 1, 4]\n",
    "list_3 = [1,1,1,1,1]\n",
    "list_4 = []\n",
    "list_5 = [2]\n",
    "lists = [list_1, list_2, list_3, list_4, list_5]"
   ]
  },
  {
   "cell_type": "code",
   "execution_count": 12,
   "metadata": {},
   "outputs": [
    {
     "name": "stdout",
     "output_type": "stream",
     "text": [
      "[1, 2, 3, 1] -> [1, 2, 3]\n",
      "[1, 3, 2, 1, 5, 3, 5, 1, 4] -> [1, 3, 2, 5, 4]\n",
      "[1, 1, 1, 1, 1] -> [1]\n",
      "[] -> []\n",
      "[2] -> [2]\n"
     ]
    }
   ],
   "source": [
    "for one_list in lists:\n",
    "    print(str(one_list) + ' -> ' + str(uniquify_with_order(one_list)))"
   ]
  },
  {
   "cell_type": "markdown",
   "metadata": {},
   "source": [
    "#### Асимптотическая сложность"
   ]
  },
  {
   "cell_type": "markdown",
   "metadata": {},
   "source": [
    "    проходим весь список за __O(n)__\n",
    "    получаем каждый элемент за __O(1)__\n",
    "    проверяем наличие в списке без дупликатов в худшем случае за __O(n)__\n",
    "\n",
    "Итого:\n",
    "    __O(n^2)__"
   ]
  },
  {
   "cell_type": "markdown",
   "metadata": {},
   "source": [
    "## 2.Написать SQL запрос\n",
    "\n",
    "Дана таблица *employees* всех сотрудников компании. Поля:\n",
    "\n",
    "    full_name TEXT (PK),\n",
    "    position TEXT,\n",
    "    department TEXT.\n",
    "\n",
    "Напиши запрос, выводящий все отделы, в которых меньше 5 разработчиков (position = 'Software Developer')."
   ]
  },
  {
   "cell_type": "markdown",
   "metadata": {},
   "source": [
    "#### Тест"
   ]
  },
  {
   "cell_type": "markdown",
   "metadata": {},
   "source": [
    "Для теста была создана следующая таблица:\n",
    "\n",
    "CREATE TABLE employees\n",
    "( \n",
    "    full_name TEXT, \n",
    "    position TEXT, \n",
    "    department TEXT  \n",
    "); \n",
    "\n",
    "\n",
    "INSERT INTO employees (full_name, position, department) VALUES ('1', 'Software Developer', 'first');\n",
    "\n",
    "INSERT INTO employees (full_name, position, department) VALUES ('2', 'John', 'Snow');\n",
    "\n",
    "INSERT INTO employees (full_name, position, department) VALUES ('3', 'John', 'Snow');\n",
    "\n",
    "INSERT INTO employees (full_name, position, department) VALUES ('4', 'Software Developer', 'first');\n",
    "\n",
    "INSERT INTO employees (full_name, position, department) VALUES ('5', 'John', 'first');\n",
    "\n",
    "INSERT INTO employees (full_name, position, department) VALUES ('6', 'Software Developer', 'first');\n",
    "\n",
    "INSERT INTO employees (full_name, position, department) VALUES ('7', 'Software Developer', 'first');\n",
    "\n",
    "INSERT INTO employees (full_name, position, department) VALUES ('8', 'Software Developer', 'first');\n",
    "\n",
    "INSERT INTO employees (full_name, position, department) VALUES ('9', 'Software Developer', 'first');\n",
    "\n",
    "INSERT INTO employees (full_name, position, department) VALUES ('10', 'John', 'Snow');\n",
    "\n",
    "INSERT INTO employees (full_name, position, department) VALUES ('11', 'Software Developer', 'second');\n",
    "\n",
    "INSERT INTO employees (full_name, position, department) VALUES ('12', 'Software Developer', 'second');\n",
    "\n",
    "INSERT INTO employees (full_name, position, department) VALUES ('13', 'John', 'Snow');\n",
    "\n",
    "INSERT INTO employees (full_name, position, department) VALUES ('14', 'John', 'Snow');\n",
    "\n",
    "INSERT INTO employees (full_name, position, department) VALUES ('15', 'John', 'Snow');"
   ]
  },
  {
   "cell_type": "markdown",
   "metadata": {},
   "source": [
    "#### Запрос"
   ]
  },
  {
   "cell_type": "markdown",
   "metadata": {},
   "source": [
    "    SELECT department, COUNT(*)\n",
    "        FROM employees\n",
    "        WHERE position='Software Developer'\n",
    "    GROUP BY department\n",
    "      HAVING COUNT(*) < 5"
   ]
  },
  {
   "cell_type": "markdown",
   "metadata": {},
   "source": [
    "#### Результат"
   ]
  },
  {
   "cell_type": "markdown",
   "metadata": {},
   "source": [
    "    department\tCOUNT(*)\n",
    "    second         2"
   ]
  },
  {
   "cell_type": "markdown",
   "metadata": {},
   "source": [
    "Запрос выводит также количество разработчиков для наглядности."
   ]
  },
  {
   "cell_type": "markdown",
   "metadata": {},
   "source": [
    "## 3. Задача"
   ]
  },
  {
   "cell_type": "markdown",
   "metadata": {},
   "source": [
    "Подкинули монету N раз. Кол-во случаев, когда выпал орёл, на 10% больше, чем кол-во случаев, когда выпала решка. При каком N мы можем сказать, что монета «нечестная» (орёл и решка выпадают с разной вероятностью)?"
   ]
  },
  {
   "cell_type": "markdown",
   "metadata": {},
   "source": [
    "Пусть наша гипотеза будет \"Монета честная\". Порог значимости примем за 0.05 (5%).\n",
    "\n",
    "Нам нужно, чтобы выпадение орлов в N бросках произошло с вероятностью меньше 0.05. Так как в условии сказано, что \" Кол-во случаев, когда выпал орёл, на 10% больше, чем кол-во случаев, когда выпала решка\",\n",
    "\n",
    "Имеем: \n",
    "\n",
    "    #орел = 0.55 * N\n",
    "    #решка = 0. 45 * N\n",
    "  \n",
    "По предположению, что монета верная, орел и решка выпадают с одинаковой вероятностью *p=0.5*.\n",
    "Надо подобрать количество выпаданий орла __n__, такое, что *p^n* < 0.05\n",
    "\n",
    "Путем подбора:\n",
    "\n",
    "    0.5^3 = 0.125\n",
    "    0.5^4 = 0.0625\n",
    "    0.5^5 = 0.03125 < 0.05, подходит!\n",
    "\n",
    "Следовательно, орел должен выпасть как минимум 5 раз.\n",
    "\n",
    "Получается:\n",
    "\n",
    "        5 = 0.55 * N\n",
    "        N = 5/0.55 = 9.09 = 10\n",
    "\n",
    "Теперь гипотеза \"Монета честная\" не соответствует критерию значимости, и её можно опровергнуть. Соответственно, монета не является честной.\n",
    "        \n",
    "Ответ: N = 10."
   ]
  },
  {
   "cell_type": "markdown",
   "metadata": {},
   "source": [
    "                                                   Спасибо!"
   ]
  }
 ],
 "metadata": {
  "kernelspec": {
   "display_name": "Python 3",
   "language": "python",
   "name": "python3"
  },
  "language_info": {
   "codemirror_mode": {
    "name": "ipython",
    "version": 3
   },
   "file_extension": ".py",
   "mimetype": "text/x-python",
   "name": "python",
   "nbconvert_exporter": "python",
   "pygments_lexer": "ipython3",
   "version": "3.8.3"
  }
 },
 "nbformat": 4,
 "nbformat_minor": 4
}
